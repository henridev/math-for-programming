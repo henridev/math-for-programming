{
 "cells": [
  {
   "cell_type": "code",
   "execution_count": null,
   "source": [
    "import sys\n",
    "sys.path.insert(0,'..')\n",
    "import numpy as np\n",
    "from vectors import *;\n",
    "from draw3d import *;\n",
    "from draw2d import *;\n",
    "\n",
    "def draw_vectors_with_area(i_hat, j_hat):\n",
    "    origin = (0,0)\n",
    "    end_point = add(*[i_hat, j_hat])\n",
    "    draw2d(\n",
    "        Arrow2D(i_hat, color=green),\n",
    "        Arrow2D(j_hat, color=red),\n",
    "        Polygon2D(*[i_hat, origin, j_hat, end_point], fill=purple)\n",
    "    )\n",
    "\n",
    "\n",
    "draw_vectors_with_area((1, 0), (0,1));\n",
    "draw_vectors_with_area((1, 0), (1,1));\n",
    "draw_vectors_with_area((4, 2), (2,1));\n",
    "# flips space over will have negative determinant\n",
    "# this inverts the orientation of space\n",
    "draw_vectors_with_area((1, 1), (2,-1));\n",
    "\n",
    "def length(v):\n",
    "    return sqrt(sum([coord ** 2 for coord in v]));"
   ],
   "outputs": [],
   "metadata": {}
  }
 ],
 "metadata": {
  "orig_nbformat": 4,
  "language_info": {
   "name": "python"
  }
 },
 "nbformat": 4,
 "nbformat_minor": 2
}