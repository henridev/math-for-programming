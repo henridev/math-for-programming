{
 "cells": [
  {
   "cell_type": "markdown",
   "source": [
    "## 3.3 Dot product measuring vector alignement\n",
    "\n",
    "- **scalar multiplication**, combining a scalar (a real number) and a vector to get a new vector. \n",
    "- multiply one vector with another? \n",
    "  - there are two important ways to do this (mean completely different things)\n",
    "    - One is called the **dot product / inner product** (for example, u ∙ v) => returns a scalar\n",
    "    - The other is called the **cross product** (for example, u × v) => returns another vector\n",
    "    - Both operations that help us reason about lengths and directions of vectors in 3D.\n",
    "\n",
    "### Picturing the dot product\n",
    "\n",
    "- works on vectors in 2D, 3D, or any number of dimensions. \n",
    "- You can think of it as measuring “how aligned” the pair of input vectors are. \n",
    "  \n",
    "<img src=\"https://res.cloudinary.com/dri8yyakb/image/upload/v1629441611/Untitled_Diagram_gsskb8.png\"/>\n",
    "\n",
    "formula to compute the dot product: multiply the corresponding coordinates and then add the products. For instance in the dot\n",
    "product (1, 2, -1) ∙ (3, 0, 3) => The sum is 3 + 0 + (-3) = 0 => these two vectors should be perpendicular."
   ],
   "metadata": {}
  },
  {
   "cell_type": "code",
   "execution_count": 2,
   "source": [
    "from math import * ;\n",
    "\n",
    "# It turns out the dot product is proportional to each of the lengths of its input vectors. If you take\n",
    "# the dot product of two vectors !!!in the same direction!!!, the dot product is precisely equal to the product of the lengths. \n",
    "\n",
    "# dot product equals the sum of the products of point coordinates\n",
    "def dot(u,v):\n",
    "    return sum([coord1 * coord2 for coord1,coord2 in zip(u,v)])\n",
    "\n",
    "\n",
    "def lengths_angles_to_dot(length1, length2 ,angle = 0, in_radians = True):\n",
    "    length1 * length2 * cos(angle if in_radians else radians(angle))\n",
    "\n",
    "def angle_between_coords(v1, v2, in_radians = True):\n",
    "    dot_product = dot(*[v1, v2])\n",
    "    length_v1 = sqrt(v1[0]**2+v1[1]**2)\n",
    "    length_v2 = sqrt(v2[0]**2+v2[1]**2)\n",
    "    angle_radians = acos(dot_product / (length_v1 * length_v2))\n",
    "    angle = angle_radians if in_radians else degrees(angle_radians)\n",
    "    return angle\n",
    "\n",
    "def angle_between_coords(v1, v2, in_radians = True):\n",
    "    dot_product = dot(*[v1, v2])\n",
    "    length_v1 = sqrt(v1[0]**2+v1[1]**2)\n",
    "    length_v2 = sqrt(v2[0]**2+v2[1]**2)\n",
    "    angle_radians = acos(dot_product / (length_v1 * length_v2))\n",
    "    return angle_radians if in_radians else degrees(angle_radians)\n",
    "\n",
    "angle_between_coords((3,4), (4,3), False)"
   ],
   "outputs": [
    {
     "output_type": "execute_result",
     "data": {
      "text/plain": [
       "16.260204708311967"
      ]
     },
     "metadata": {},
     "execution_count": 2
    }
   ],
   "metadata": {}
  }
 ],
 "metadata": {
  "orig_nbformat": 4,
  "language_info": {
   "name": "python",
   "version": "3.8.10",
   "mimetype": "text/x-python",
   "codemirror_mode": {
    "name": "ipython",
    "version": 3
   },
   "pygments_lexer": "ipython3",
   "nbconvert_exporter": "python",
   "file_extension": ".py"
  },
  "kernelspec": {
   "name": "python3",
   "display_name": "Python 3.8.10 64-bit"
  },
  "interpreter": {
   "hash": "31f2aee4e71d21fbe5cf8b01ff0e069b9275f58929596ceb00d14d90e3e16cd6"
  }
 },
 "nbformat": 4,
 "nbformat_minor": 2
}