{
 "cells": [
  {
   "cell_type": "code",
   "execution_count": 5,
   "source": [
    "import sys\n",
    "sys.path.insert(0,'..')\n",
    "import numpy as np\n",
    "from vectors import *;\n",
    "from draw3d import *;\n",
    "from draw2d import *;"
   ],
   "outputs": [],
   "metadata": {}
  },
  {
   "cell_type": "code",
   "execution_count": 4,
   "source": [
    "'''\n",
    "result (8, 3), vut (8, 3)\n",
    "uscaled_t (6, 2), ut_scaled (6, 2)\n",
    "'''\n",
    "\n",
    "v = (3, 2)\n",
    "u = (2, 1)\n",
    "i_hat = (1, 0)\n",
    "j_hat = (1, 1)\n",
    "transformation = (i_hat, j_hat)\n",
    "\n",
    "scaling_factor = 2\n",
    "\n",
    "def transform_2d(vector, transformation):\n",
    "    (i_hat, j_hat) = transformation\n",
    "    (x, y) = vector\n",
    "    return add(*[scale(x, i_hat), scale(y, j_hat)]) \n",
    "\n",
    "ut = transform_2d(u, transformation)\n",
    "vt = transform_2d(v, transformation)\n",
    "# T(v) + T(u)\n",
    "result = add(*[ut, vt])\n",
    "\n",
    "vu = add(*[v,u])\n",
    "# T(v+u)\n",
    "vut = transform_2d(vu, transformation)\n",
    "\n",
    "print(f'result {result}, vut {vut}')\n",
    "\n",
    "\n",
    "# T(cu)\n",
    "u_scaled = scale(scaling_factor, u)\n",
    "uscaled_t = transform_2d(u_scaled, transformation) \n",
    "\n",
    "# cT(u)\n",
    "ut_scaled = scale(scaling_factor, ut)\n",
    "\n",
    "print(f'uscaled_t {uscaled_t}, ut_scaled {ut_scaled}')\n"
   ],
   "outputs": [
    {
     "output_type": "stream",
     "name": "stdout",
     "text": [
      "result (8, 3), vut (8, 3)\n",
      "uscaled_t (6, 2), ut_scaled (6, 2)\n"
     ]
    }
   ],
   "metadata": {}
  },
  {
   "cell_type": "code",
   "execution_count": null,
   "source": [
    "i_hat = (1,3)\n",
    "j_hat = (1, 0)\n",
    "transformation = (i_hat, j_hat)\n",
    "\n",
    "'''\n",
    "x_1 * i_hat + x_2 * j_hat \n",
    "\n",
    "x_1 + x_2 \n",
    "3x_1 + 0\n",
    "\n",
    "[\n",
    "  (x_1 + x_2)\n",
    "  3x_1\n",
    "]\n",
    "\n",
    "= \n",
    "\n",
    "T(x_1,x_2) = (x_1 + x_2, 3x_1)\n",
    "\n",
    "=\n",
    "\n",
    "T( [\n",
    "    x_1,\n",
    "    x_2\n",
    "   ]) = T([\n",
    "       x_1 + x_2, \n",
    "       3x_1\n",
    "       ])\n",
    "'''"
   ],
   "outputs": [],
   "metadata": {}
  }
 ],
 "metadata": {
  "orig_nbformat": 4,
  "language_info": {
   "name": "python",
   "version": "3.8.10",
   "mimetype": "text/x-python",
   "codemirror_mode": {
    "name": "ipython",
    "version": 3
   },
   "pygments_lexer": "ipython3",
   "nbconvert_exporter": "python",
   "file_extension": ".py"
  },
  "kernelspec": {
   "name": "python3",
   "display_name": "Python 3.8.10 64-bit"
  },
  "interpreter": {
   "hash": "916dbcbb3f70747c44a77c7bcd40155683ae19c65e1c03b4aa3499c5328201f1"
  }
 },
 "nbformat": 4,
 "nbformat_minor": 2
}